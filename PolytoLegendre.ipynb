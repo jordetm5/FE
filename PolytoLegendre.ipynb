{
  "nbformat": 4,
  "nbformat_minor": 0,
  "metadata": {
    "colab": {
      "name": "Untitled57.ipynb",
      "provenance": [],
      "authorship_tag": "ABX9TyO6yjoEpMIBEwAi6wGYM/PC",
      "include_colab_link": true
    },
    "kernelspec": {
      "name": "python3",
      "display_name": "Python 3"
    }
  },
  "cells": [
    {
      "cell_type": "markdown",
      "metadata": {
        "id": "view-in-github",
        "colab_type": "text"
      },
      "source": [
        "<a href=\"https://colab.research.google.com/github/jordetm5/FE/blob/master/PolytoLegendre.ipynb\" target=\"_parent\"><img src=\"https://colab.research.google.com/assets/colab-badge.svg\" alt=\"Open In Colab\"/></a>"
      ]
    },
    {
      "cell_type": "code",
      "metadata": {
        "id": "np0VJclbwf0D",
        "colab_type": "code",
        "colab": {}
      },
      "source": [
        "import numpy as np\n",
        "import sympy as sp\n",
        "sp.init_printing(use_latex='mathjax')\n",
        "from sympy.parsing.sympy_parser import parse_expr"
      ],
      "execution_count": 0,
      "outputs": []
    },
    {
      "cell_type": "code",
      "metadata": {
        "id": "RfB2V7Ea2d4S",
        "colab_type": "code",
        "colab": {}
      },
      "source": [
        "x=sp.Symbol('x')\n",
        "def Pn(n):\n",
        "  return sp.simplify((1/((2**n)*np.math.factorial(n)))*((x**2-1)**n).diff(x,n))"
      ],
      "execution_count": 0,
      "outputs": []
    },
    {
      "cell_type": "markdown",
      "metadata": {
        "id": "8B8LliEqAa4y",
        "colab_type": "text"
      },
      "source": [
        ""
      ]
    },
    {
      "cell_type": "code",
      "metadata": {
        "id": "6zHwe3KiwpgX",
        "colab_type": "code",
        "colab": {}
      },
      "source": [
        "def T(a):\n",
        "  b=[]\n",
        "  k=\"\"\n",
        "  for j in range(len(a)):\n",
        "    k=k+\"+\"+str(a[j])+\"*x**\"+str(j)\n",
        "  p=sp.simplify(parse_expr(k, evaluate=False))\n",
        "  for i in range(len(a)):\n",
        "    y=Pn(i)\n",
        "    print(y)\n",
        "    d=sp.integrate((p*y),(x,-1,1))\n",
        "    print(d)\n",
        "    w=sp.integrate((y**2),(x,-1,1))\n",
        "    b.append(d/w)\n",
        "  return b"
      ],
      "execution_count": 0,
      "outputs": []
    },
    {
      "cell_type": "markdown",
      "metadata": {
        "id": "i0GBONKqMd9w",
        "colab_type": "text"
      },
      "source": [
        "Bueno en la siguiente parte probamos la funcion con el vector a"
      ]
    },
    {
      "cell_type": "code",
      "metadata": {
        "id": "261lgXeqB_o_",
        "colab_type": "code",
        "outputId": "77253760-46b9-4813-e6ab-cedbf81416f6",
        "colab": {
          "base_uri": "https://localhost:8080/",
          "height": 136
        }
      },
      "source": [
        "a=[-1/2,0,3/2]\n",
        "z=T(a)\n",
        "r=\"\"\n",
        "P=sp.Symbol('P')\n",
        "for j in range(len(a)):\n",
        "  r=r+\"+\"+str(z[j])+\"*P_{\"+str(j)+\"}\"\n",
        "q='$'+r+'$'\n",
        "q"
      ],
      "execution_count": 0,
      "outputs": [
        {
          "output_type": "stream",
          "text": [
            "1.00000000000000\n",
            "0\n",
            "1.0*x\n",
            "0\n",
            "1.5*x**2 - 0.5\n",
            "0.400000000000000\n"
          ],
          "name": "stdout"
        },
        {
          "output_type": "execute_result",
          "data": {
            "text/plain": [
              "'$+0*P_{0}+0*P_{1}+1.00000000000000*P_{2}$'"
            ]
          },
          "metadata": {
            "tags": []
          },
          "execution_count": 13
        }
      ]
    },
    {
      "cell_type": "markdown",
      "metadata": {
        "id": "7cAu7KrkD70S",
        "colab_type": "text"
      },
      "source": [
        "$+0*P_{0}+0*P_{1}+1.00000000000000*P_{2}$"
      ]
    }
  ]
}